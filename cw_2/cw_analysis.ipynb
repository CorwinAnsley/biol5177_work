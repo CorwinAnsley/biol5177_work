{
 "cells": [
  {
   "cell_type": "markdown",
   "id": "b23cb299-8aaf-41ab-80fd-986bb59077e5",
   "metadata": {},
   "source": [
    "Load dependencies"
   ]
  },
  {
   "cell_type": "code",
   "execution_count": 1,
   "id": "0a85c012-4211-4110-b011-0b64f5d1bc42",
   "metadata": {
    "tags": []
   },
   "outputs": [],
   "source": [
    "import scanpy as sc\n",
    "import anndata as ad"
   ]
  },
  {
   "cell_type": "markdown",
   "id": "49adfd41-48cb-4390-9881-8d7b64b37986",
   "metadata": {},
   "source": [
    "Set settings and constants"
   ]
  },
  {
   "cell_type": "code",
   "execution_count": 4,
   "id": "e38d70d3-dc55-4266-90d5-c0d227701a8d",
   "metadata": {
    "tags": []
   },
   "outputs": [],
   "source": [
    "sc.settings.set_figure_params(dpi=50, facecolor=\"white\")\n",
    "DATA_DIR = '/data/BIOL5177/Assessment'\n",
    "SAMPLES = ['Infected1','Infected2','WT1']"
   ]
  },
  {
   "cell_type": "markdown",
   "id": "38c0f3a9-77aa-42c1-a00e-e1f02d3d74fe",
   "metadata": {},
   "source": [
    "Load in the data"
   ]
  },
  {
   "cell_type": "code",
   "execution_count": 10,
   "id": "01f1c831-3773-47d6-9ff2-00636d0ea085",
   "metadata": {
    "tags": []
   },
   "outputs": [
    {
     "name": "stdout",
     "output_type": "stream",
     "text": [
      "Infected1\n",
      "Infected2\n",
      "WT1\n"
     ]
    }
   ],
   "source": [
    "# Returns an AnnData object which\n",
    "def load_count_data_csv(data_dir, samples, counts_matrix = 'counts_matrix.csv'):\n",
    "    adata_dict = {}\n",
    "    for sample_id in samples:\n",
    "        print(sample_id)\n",
    "        filepath = f'{data_dir}/{sample_id}/{counts_matrix}'\n",
    "        sample_adata = sc.read_csv(filepath)\n",
    "        sample_adata.var_names_make_unique()\n",
    "        adata_dict[sample_id] = sample_adata\n",
    "    \n",
    "    return adata_dict\n",
    "\n",
    "adata_dict = load_count_data_csv(DATA_DIR, SAMPLES)"
   ]
  },
  {
   "cell_type": "code",
   "execution_count": 11,
   "id": "fb53aaeb-262d-4cd2-9f3e-5b0162cd859f",
   "metadata": {
    "tags": []
   },
   "outputs": [
    {
     "name": "stdout",
     "output_type": "stream",
     "text": [
      "AnnData object with n_obs × n_vars = 21216 × 4067\n"
     ]
    }
   ],
   "source": [
    "print(adata_dict['WT1'])"
   ]
  },
  {
   "cell_type": "code",
   "execution_count": null,
   "id": "a9bfead3-6826-4870-b9a6-19d4e73876c3",
   "metadata": {},
   "outputs": [],
   "source": []
  }
 ],
 "metadata": {
  "kernelspec": {
   "display_name": "Python 3 (ipykernel)",
   "language": "python",
   "name": "python3"
  },
  "language_info": {
   "codemirror_mode": {
    "name": "ipython",
    "version": 3
   },
   "file_extension": ".py",
   "mimetype": "text/x-python",
   "name": "python",
   "nbconvert_exporter": "python",
   "pygments_lexer": "ipython3",
   "version": "3.10.12"
  }
 },
 "nbformat": 4,
 "nbformat_minor": 5
}
